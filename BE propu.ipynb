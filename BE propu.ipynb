{
 "cells": [
  {
   "cell_type": "code",
   "execution_count": 1,
   "metadata": {},
   "outputs": [],
   "source": [
    "import numpy as np\n",
    "import math as math\n",
    "import matplotlib.pyplot as plt"
   ]
  },
  {
   "cell_type": "markdown",
   "metadata": {},
   "source": [
    "\n",
    "## TURBOFAN\n",
    "BE Mécanique et thermodynamique des fluides - \n"
   ]
  },
  {
   "cell_type": "markdown",
   "metadata": {},
   "source": [
    "#### Constants:"
   ]
  },
  {
   "cell_type": "code",
   "execution_count": 2,
   "metadata": {},
   "outputs": [],
   "source": [
    "#air\n",
    "r=287\n",
    "gamma=1.4\n",
    "cp=gamma*r/(gamma-1)\n",
    "\n",
    "#after combustion\n",
    "r_2=291.6\n",
    "gamma_2= 1.33\n",
    "cp_2=gamma_2*r_2/(gamma_2-1)\n",
    "\n",
    "#kerosene calorific power\n",
    "\n",
    "P_kerosene=42800000  #J/kg"
   ]
  },
  {
   "cell_type": "markdown",
   "metadata": {},
   "source": [
    "#### Flight data:"
   ]
  },
  {
   "cell_type": "code",
   "execution_count": 3,
   "metadata": {},
   "outputs": [],
   "source": [
    "M0=0.75\n",
    "alt_feet = 35000 #feet\n",
    "alt = alt_feet*0.3048\n",
    "p0 = 22700 #pa\n",
    "t0 = 217 # K"
   ]
  },
  {
   "cell_type": "markdown",
   "metadata": {},
   "source": [
    "#### Turbonfan data:"
   ]
  },
  {
   "cell_type": "code",
   "execution_count": 4,
   "metadata": {},
   "outputs": [],
   "source": [
    "bypass=11\n",
    "psi_intake=0.97\n",
    "r_comp=41\n",
    "n_comp=0.9\n",
    "n_fan=0.92\n",
    "n_comb=0.99\n",
    "psi_comb=0.95\n",
    "t_max = 1640 #kelvin\n",
    "n_shaft=0.98\n",
    "n_hp=0.89\n",
    "n_lp=0.90\n",
    "psi_nozzle=0.97\n",
    "n_fan=0.92\n",
    "\n",
    "mass_flow = 215\n",
    "mass_core = mass_flow/(bypass+1)\n",
    "mass_fan = mass_flow - mass_core "
   ]
  },
  {
   "cell_type": "markdown",
   "metadata": {},
   "source": [
    "#### Intake"
   ]
  },
  {
   "cell_type": "code",
   "execution_count": 5,
   "metadata": {},
   "outputs": [
    {
     "name": "stdout",
     "output_type": "stream",
     "text": [
      "Total pressure after intake: 31977.732132394725 Pa\n",
      "Total temperature after intake: 241.41250000000002 K\n",
      "Speed before intake 221.4604084255242\n"
     ]
    }
   ],
   "source": [
    "pi0=(1+(gamma-1)*0.5*M0**2)**(gamma/(gamma-1))*p0 #total pressure before intake\n",
    "pi2=psi_intake*pi0 #total pressure after intake\n",
    "ti0=(1+0.5*(gamma-1)*M0**2)*t0 #total temperature before and after intake (isentropic)\n",
    "ti2=ti0\n",
    "a0=math.sqrt(gamma*r*t0)\n",
    "v0=a0*M0\n",
    "\n",
    "print('Total pressure after intake:',pi2,'Pa')\n",
    "print('Total temperature after intake:',ti2,'K')\n",
    "print('Speed before intake',v0)"
   ]
  },
  {
   "cell_type": "markdown",
   "metadata": {},
   "source": [
    "#### Compressor"
   ]
  },
  {
   "cell_type": "code",
   "execution_count": 6,
   "metadata": {},
   "outputs": [
    {
     "name": "stdout",
     "output_type": "stream",
     "text": [
      "Total pressure after compressor: 1311087.0174281837 Pa\n",
      "Total temperature after compressor: 784.7921108810372 K\n"
     ]
    }
   ],
   "source": [
    "pi3=pi2*r_comp  #total pressure after compressor\n",
    "ti3=r_comp**((gamma-1)/(gamma*n_comp))*ti0  #total temperature after compressor\n",
    "w_comp=mass_core*(ti3-ti2)*cp\n",
    "\n",
    "print('Total pressure after compressor:',pi3,'Pa')\n",
    "print('Total temperature after compressor:',ti3,'K')"
   ]
  },
  {
   "cell_type": "markdown",
   "metadata": {},
   "source": [
    " #### Combustion chamber"
   ]
  },
  {
   "cell_type": "code",
   "execution_count": 7,
   "metadata": {},
   "outputs": [
    {
     "name": "stdout",
     "output_type": "stream",
     "text": [
      "Fuel to air ratio: 2.8163552434186836 %\n",
      "Total pressure after combustion chamber: 1245532.6665567744 Pa\n",
      "Total temperature after combustion chamber: 1640 K\n"
     ]
    }
   ],
   "source": [
    "f=(cp_2*t_max-cp*ti3)/(n_comb*P_kerosene-cp_2*t_max) #fuel to air ratio\n",
    "pi4=pi3*psi_comb\n",
    "ti4=t_max\n",
    "\n",
    "print('Fuel to air ratio:',f*100,'%')\n",
    "print('Total pressure after combustion chamber:',pi4,'Pa')\n",
    "print('Total temperature after combustion chamber:',ti4,'K')"
   ]
  },
  {
   "cell_type": "markdown",
   "metadata": {},
   "source": [
    "#### High pressure turbine"
   ]
  },
  {
   "cell_type": "code",
   "execution_count": 8,
   "metadata": {},
   "outputs": [
    {
     "name": "stdout",
     "output_type": "stream",
     "text": [
      "Total pressure after high pressure turbine: 279513.80481549044 Pa\n",
      "Total temperature after high pressure turbine: 1179.0649021492761 K\n"
     ]
    }
   ],
   "source": [
    "w_hpturb=-w_comp/n_shaft\n",
    "ti45=w_hpturb/(mass_core*(1+f)*cp_2)+ti4\n",
    "pi45=pi4/(ti4/ti45)**(gamma_2/(n_hp*(gamma_2-1)))\n",
    "\n",
    "\n",
    "print('Total pressure after high pressure turbine:',pi45,'Pa')\n",
    "print('Total temperature after high pressure turbine:',ti45,'K')"
   ]
  },
  {
   "cell_type": "markdown",
   "metadata": {},
   "source": [
    "#### Low pressure turbine"
   ]
  },
  {
   "cell_type": "code",
   "execution_count": 30,
   "metadata": {},
   "outputs": [
    {
     "name": "stdout",
     "output_type": "stream",
     "text": [
      "Total pressure after low pressure turbine: 33401.152872356 Pa\n",
      "Total temperature after low pressure turbine: 733.6757518748209 K\n"
     ]
    }
   ],
   "source": [
    "M_fict=math.sqrt( ((pi45/p0)** ((gamma_2-1)/gamma_2)  -1)  *2/   (gamma_2-1))\n",
    "\n",
    "t_fict=ti45/(1+M_fict**2*0.5*(gamma_2-1))\n",
    "a_fict=math.sqrt(gamma_2*r_2*t_fict)\n",
    "v_fict=M_fict*a_fict\n",
    "w_fict=0.5*mass_core*(1+f)*v_fict**2-0.5*mass_core*v0**2\n",
    "\n",
    "\n",
    "w_fan=bypass/(2+bypass)*w_fict\n",
    "w_lpturb=-w_fan\n",
    "ti5=w_lpturb/(mass_core*(1+f)*cp_2)+ti45\n",
    "pi5=pi45/(ti45/ti5)**(gamma_2/(n_lp*(gamma_2-1)))\n",
    "\n",
    "print('Total pressure after low pressure turbine:',pi5,'Pa')\n",
    "print('Total temperature after low pressure turbine:',ti5,'K')"
   ]
  },
  {
   "cell_type": "code",
   "execution_count": 16,
   "metadata": {},
   "outputs": [
    {
     "data": {
      "text/plain": [
       "11395540.777650656"
      ]
     },
     "execution_count": 16,
     "metadata": {},
     "output_type": "execute_result"
    }
   ],
   "source": [
    "w_fict"
   ]
  },
  {
   "cell_type": "markdown",
   "metadata": {},
   "source": [
    "#### Nozzle"
   ]
  },
  {
   "cell_type": "code",
   "execution_count": 31,
   "metadata": {},
   "outputs": [
    {
     "name": "stdout",
     "output_type": "stream",
     "text": [
      "Total pressure after nozzle: 32399.118286185316 Pa\n",
      "Total temperature after nozzle: 733.6757518748209 K\n",
      "Mach at core exit: 0.7478700989424634\n",
      "Speed at core exit: 381.70656533647383\n"
     ]
    }
   ],
   "source": [
    "pi9=psi_nozzle*pi5\n",
    "ti9=ti5\n",
    "\n",
    "M9=math.sqrt( ((pi9/p0)** ((gamma_2-1)/gamma_2)  -1)  *2/   (gamma_2-1))\n",
    "t9=ti9/(1+0.5*(gamma_2-1)*M9**2)\n",
    "a9=math.sqrt(gamma_2*r_2*t9)\n",
    "v9=a9*M9\n",
    "\n",
    "print('Total pressure after nozzle:',pi9,'Pa')\n",
    "print('Total temperature after nozzle:',ti9,'K')\n",
    "print('Mach at core exit:',M9)\n",
    "print('Speed at core exit:',v9)"
   ]
  },
  {
   "cell_type": "markdown",
   "metadata": {},
   "source": [
    "#### Fan"
   ]
  },
  {
   "cell_type": "code",
   "execution_count": 32,
   "metadata": {},
   "outputs": [
    {
     "name": "stdout",
     "output_type": "stream",
     "text": [
      "Total pressure after fan: 55452.808541702536 Pa\n",
      "Total temperature after fan: 289.14459628057347 K\n",
      "Mach at fan exit: 1.2056279089117679\n",
      "Speed at fan exit: 361.71110597811685\n"
     ]
    }
   ],
   "source": [
    "ti12=ti2\n",
    "pi12=pi2\n",
    "\n",
    "ti17=w_fan*n_shaft/((mass_fan)*cp)+ti12\n",
    "pi17=pi12*(ti17/ti12)**(gamma*n_fan/(gamma-1))\n",
    "pi19=pi17*psi_nozzle\n",
    "M19=math.sqrt( ((pi19/p0)** ((gamma-1)/gamma)  -1)  *2/   (gamma-1))\n",
    "ti19=ti17\n",
    "\n",
    "t19=ti17/(1+0.5*(gamma-1)*M19**2)\n",
    "a19=math.sqrt(gamma*r*t19)\n",
    "v19=a19*M19\n",
    "\n",
    "print('Total pressure after fan:',pi19,'Pa')\n",
    "print('Total temperature after fan:',ti19,'K')\n",
    "print('Mach at fan exit:',M19)\n",
    "print('Speed at fan exit:',v19)"
   ]
  },
  {
   "cell_type": "markdown",
   "metadata": {},
   "source": [
    "#### Efficiencies"
   ]
  },
  {
   "cell_type": "code",
   "execution_count": null,
   "metadata": {},
   "outputs": [],
   "source": []
  },
  {
   "cell_type": "code",
   "execution_count": null,
   "metadata": {},
   "outputs": [],
   "source": []
  },
  {
   "cell_type": "code",
   "execution_count": null,
   "metadata": {},
   "outputs": [],
   "source": []
  }
 ],
 "metadata": {
  "kernelspec": {
   "display_name": "Python 3",
   "language": "python",
   "name": "python3"
  },
  "language_info": {
   "codemirror_mode": {
    "name": "ipython",
    "version": 3
   },
   "file_extension": ".py",
   "mimetype": "text/x-python",
   "name": "python",
   "nbconvert_exporter": "python",
   "pygments_lexer": "ipython3",
   "version": "3.6.5"
  }
 },
 "nbformat": 4,
 "nbformat_minor": 2
}
